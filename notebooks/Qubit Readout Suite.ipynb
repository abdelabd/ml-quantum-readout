{
 "cells": [
  {
   "cell_type": "markdown",
   "id": "6ddd8999-8351-4ae9-a05d-865c38d6f559",
   "metadata": {},
   "source": [
    "The goal here is to compare just the classification performance of the QICK neural network, against the following suite of algorithms:\n",
    "1. Linear Discriminant Analysis, with three different solution algorithms: https://scikit-learn.org/stable/modules/generated/sklearn.discriminant_analysis.LinearDiscriminantAnalysis.html\n",
    "\n",
    "    a. Singular value decomposition (SVD)\n",
    "   \n",
    "    b. Least-squares minimization\n",
    "   \n",
    "    c. Eigenvalue decomposition\n",
    "3. Quadratic Discriminant Analysis: https://scikit-learn.org/stable/modules/generated/sklearn.discriminant_analysis.QuadraticDiscriminantAnalysis.html\n",
    "4. Support Vector Machines:\n",
    "   \n",
    "    a. C-SVC, time-complexity may make this one impractical: https://scikit-learn.org/stable/modules/generated/sklearn.svm.SVC.html\n",
    "   \n",
    "    b. Linear SVC: https://scikit-learn.org/stable/modules/generated/sklearn.svm.LinearSVC.html#sklearn.svm.LinearSVC\n",
    "   \n",
    "    c. Linear SVC with SGD training: https://scikit-learn.org/stable/modules/generated/sklearn.linear_model.SGDClassifier.html#sklearn.linear_model.SGDClassifier\n",
    "   \n",
    "    d. SVC with a pre-determined number of support vectors: https://scikit-learn.org/stable/modules/generated/sklearn.svm.NuSVC.html#sklearn.svm.NuSVC\n",
    "       \n",
    "6. K-Nearest Neighbors Classification: https://scikit-learn.org/stable/modules/generated/sklearn.neighbors.KNeighborsClassifier.html\n",
    "7. KMeans Clustering: https://scikit-learn.org/stable/modules/generated/sklearn.cluster.KMeans.html\n",
    "8. Gaussian Naive Bayes Classification: https://scikit-learn.org/stable/modules/generated/sklearn.naive_bayes.GaussianNB.html\n",
    "\n",
    "Following the methods of these papers:\n",
    "- https://arxiv.org/pdf/1411.4994.pdf\n",
    "- https://arxiv.org/abs/2210.08574\n",
    "\n",
    "Future direction is to create hardware implementations of these so we can benchmark the neural network's latency and resource-usage. "
   ]
  },
  {
   "cell_type": "code",
   "execution_count": 15,
   "id": "7c1d1592-45a4-4d1a-9c19-8ac73ee6ed89",
   "metadata": {},
   "outputs": [],
   "source": [
    "import os \n",
    "import time\n",
    "import sys \n",
    "sys.path.append(\"../training\")\n",
    "import pickle\n",
    "import copy\n",
    "from itertools import combinations, permutations\n",
    "\n",
    "import hls4ml \n",
    "import numpy as np\n",
    "import matplotlib.pyplot as plt \n",
    "from sklearn.metrics import accuracy_score, auc, roc_curve\n",
    "from sklearn.discriminant_analysis import LinearDiscriminantAnalysis as LDA\n",
    "from sklearn.discriminant_analysis import QuadraticDiscriminantAnalysis as QDA\n",
    "from sklearn import svm, neighbors, cluster, naive_bayes, linear_model\n",
    "\n",
    "import tensorflow as tf\n",
    "from tensorflow.keras.optimizers import Adam\n",
    "from tensorflow.keras.models import Sequential\n",
    "from tensorflow.keras.layers import Dense, Activation, BatchNormalization, Dropout\n",
    "from tensorflow.keras.callbacks import ReduceLROnPlateau, ModelCheckpoint\n",
    "from tensorflow.keras.losses import CategoricalCrossentropy\n",
    "\n",
    "from tensorflow_model_optimization.python.core.sparsity.keras import prune, pruning_callbacks, pruning_schedule\n",
    "from tensorflow_model_optimization.sparsity.keras import strip_pruning\n",
    "import tensorflow_model_optimization as tfmot\n",
    "\n",
    "from qkeras.qlayers import QDense, QActivation\n",
    "from qkeras import QBatchNormalization\n",
    "from qkeras.quantizers import quantized_bits, quantized_relu\n",
    "from qkeras.utils import _add_supported_quantized_objects\n",
    "from tensorflow.keras.models import load_model\n",
    "from qkeras.utils import _add_supported_quantized_objects\n",
    "\n",
    "# Local imports\n",
    "from save_data import process_data\n",
    "\n",
    "np.random.seed(0)"
   ]
  },
  {
   "cell_type": "markdown",
   "id": "83f0ba65-50df-4a42-bcc7-775c5fded3d5",
   "metadata": {},
   "source": [
    "## 0. Data and Neural Network"
   ]
  },
  {
   "cell_type": "markdown",
   "id": "12065a72-d02e-4303-b4c4-48fb171e5573",
   "metadata": {},
   "source": [
    "### 0.a. Data"
   ]
  },
  {
   "cell_type": "code",
   "execution_count": 2,
   "id": "c97b2233-63db-418f-b3f0-0a7085c9bbfc",
   "metadata": {},
   "outputs": [],
   "source": [
    "START_WINDOW = 0\n",
    "END_WINDOW = 770\n",
    "DATA_DIR = \"../data/data_0\"\n",
    "\n",
    "# convert raw ADC data into npy files \n",
    "if os.path.exists(f\"{DATA_DIR}/X_train.npy\") == False:\n",
    "    process_data(\n",
    "        start_window=START_WINDOW,\n",
    "        end_window=END_WINDOW, \n",
    "        data_dir=DATA_DIR\n",
    "    )\n",
    "\n",
    "# load data\n",
    "X_train_val = np.load(os.path.join(DATA_DIR, 'X_train.npy'))\n",
    "y_train_val = np.load(os.path.join(DATA_DIR, 'y_train.npy'))\n",
    "X_test = np.load(os.path.join(DATA_DIR, 'X_test.npy'))    \n",
    "y_test = np.load(os.path.join(DATA_DIR, 'y_test.npy'))"
   ]
  },
  {
   "cell_type": "code",
   "execution_count": 3,
   "id": "cc67d060-f7bc-4f3f-9b94-c8470cacce7f",
   "metadata": {},
   "outputs": [
    {
     "name": "stdout",
     "output_type": "stream",
     "text": [
      "X_train.shape: (636300, 1540)\n",
      "y_train.shape: (636300,)\n",
      "X_val.shape: (272700, 1540)\n",
      "y_val.shape: (272700,)\n",
      "X_test.shape: (101000, 1540)\n",
      "y_test.shape: (101000,)\n"
     ]
    }
   ],
   "source": [
    "# Shuffle train-val\n",
    "train_val_shuffler = np.random.permutation(range(X_train_val.shape[0]))\n",
    "X_train_val = X_train_val[train_val_shuffler]\n",
    "y_train_val = y_train_val[train_val_shuffler]\n",
    "\n",
    "# Train-validate split\n",
    "VALIDATION_SPLIT = 0.3\n",
    "TRAIN_SPLIT = 1 - VALIDATION_SPLIT\n",
    "N_TRAIN = int(TRAIN_SPLIT*X_train_val.shape[0])\n",
    "\n",
    "X_train = X_train_val[:N_TRAIN]\n",
    "y_train = y_train_val[:N_TRAIN]\n",
    "\n",
    "X_val = X_train_val[N_TRAIN:]\n",
    "y_val = y_train_val[N_TRAIN:]\n",
    "\n",
    "print(f\"X_train.shape: {X_train.shape}\")\n",
    "print(f\"y_train.shape: {y_train.shape}\")\n",
    "print(f\"X_val.shape: {X_val.shape}\")\n",
    "print(f\"y_val.shape: {y_val.shape}\")\n",
    "print(f\"X_test.shape: {X_test.shape}\")\n",
    "print(f\"y_test.shape: {y_test.shape}\")\n",
    "\n",
    "# X_train_val[0] = I, Q timeseries over (END_WINDOW - START_WINDOW) timesteps\n",
    "assert len(X_train_val[0]) == (END_WINDOW-START_WINDOW)*2, \"ERROR: Specified window does not match loaded dataset shape\"\n",
    "assert len(X_test[0]) == (END_WINDOW-START_WINDOW)*2, \"ERROR: Specified window does not match loaded dataset shape\"\n",
    "\n",
    "\n",
    "# One-hot encoded data for neural network\n",
    "def one_hot_encode(data):\n",
    "    y_encoded = np.zeros([data.shape[0],2], dtype=np.int32)\n",
    "    for idx, x in enumerate(data):\n",
    "        if x == 1:\n",
    "            y_encoded[idx][1] = 1\n",
    "        else:\n",
    "            y_encoded[idx][0] = 1\n",
    "    return y_encoded\n",
    "\n",
    "y_test_onehot = one_hot_encode(y_test)"
   ]
  },
  {
   "cell_type": "markdown",
   "id": "c9b83a3d-7634-423d-8f01-ab8dfe1df9ef",
   "metadata": {},
   "source": [
    "### 0.b. Neural Network"
   ]
  },
  {
   "cell_type": "code",
   "execution_count": 4,
   "id": "c1ce7003-1324-4be4-b52c-9fdb43f3551a",
   "metadata": {},
   "outputs": [
    {
     "name": "stderr",
     "output_type": "stream",
     "text": [
      "2024-03-20 14:46:25.979298: W tensorflow/compiler/xla/stream_executor/platform/default/dso_loader.cc:64] Could not load dynamic library 'libcuda.so.1'; dlerror: libcuda.so.1: cannot open shared object file: No such file or directory\n",
      "2024-03-20 14:46:25.979360: W tensorflow/compiler/xla/stream_executor/cuda/cuda_driver.cc:265] failed call to cuInit: UNKNOWN ERROR (303)\n",
      "2024-03-20 14:46:25.979414: I tensorflow/compiler/xla/stream_executor/cuda/cuda_diagnostics.cc:156] kernel driver does not appear to be running on this host (correlator3.fnal.gov): /proc/driver/nvidia/version does not exist\n",
      "2024-03-20 14:46:25.979954: I tensorflow/core/platform/cpu_feature_guard.cc:193] This TensorFlow binary is optimized with oneAPI Deep Neural Network Library (oneDNN) to use the following CPU instructions in performance-critical operations:  AVX2 AVX512F FMA\n",
      "To enable them in other operations, rebuild TensorFlow with the appropriate compiler flags.\n"
     ]
    },
    {
     "name": "stdout",
     "output_type": "stream",
     "text": [
      "WARNING:tensorflow:From /data/aelabd/miniforge3/envs/ml4qick-env/lib/python3.8/site-packages/tensorflow/python/autograph/pyct/static_analysis/liveness.py:83: Analyzer.lamba_check (from tensorflow.python.autograph.pyct.static_analysis.liveness) is deprecated and will be removed after 2023-09-23.\n",
      "Instructions for updating:\n",
      "Lambda fuctions will be no more assumed to be used in the statement where they are used, or at least in the same block. https://github.com/tensorflow/tensorflow/issues/56089\n"
     ]
    },
    {
     "name": "stderr",
     "output_type": "stream",
     "text": [
      "WARNING:tensorflow:From /data/aelabd/miniforge3/envs/ml4qick-env/lib/python3.8/site-packages/tensorflow/python/autograph/pyct/static_analysis/liveness.py:83: Analyzer.lamba_check (from tensorflow.python.autograph.pyct.static_analysis.liveness) is deprecated and will be removed after 2023-09-23.\n",
      "Instructions for updating:\n",
      "Lambda fuctions will be no more assumed to be used in the statement where they are used, or at least in the same block. https://github.com/tensorflow/tensorflow/issues/56089\n"
     ]
    },
    {
     "name": "stdout",
     "output_type": "stream",
     "text": [
      "3157/3157 [==============================] - 3s 947us/step\n",
      "NN Accuracy: 0.9609603960396039\n"
     ]
    }
   ],
   "source": [
    "CHECKPOINT_FILENAME = \"qmodel.h5\"\n",
    "co = {}\n",
    "_add_supported_quantized_objects(co)\n",
    "model = load_model(CHECKPOINT_FILENAME, custom_objects=co, compile=False)\n",
    "y_pred_NN = model.predict(X_test)\n",
    "NN_acc = accuracy_score(np.argmax(y_test_onehot, axis=1), np.argmax(y_pred_NN, axis=1))\n",
    "print(\"NN Accuracy: {}\".format(NN_acc))"
   ]
  },
  {
   "cell_type": "markdown",
   "id": "976ef384-dd70-4402-9834-55c397064ba7",
   "metadata": {},
   "source": [
    "## 1. Linear Discriminant Analysis"
   ]
  },
  {
   "cell_type": "markdown",
   "id": "5c7f730b-a2cf-4f2f-85c5-f50ea3a4f84c",
   "metadata": {},
   "source": [
    "###      a. with singular value decomposition"
   ]
  },
  {
   "cell_type": "code",
   "execution_count": 5,
   "id": "82454d5c-2125-4c5d-a244-f42ffb3a0d77",
   "metadata": {},
   "outputs": [
    {
     "name": "stdout",
     "output_type": "stream",
     "text": [
      "Duration: 2.0 minutes, 53.60548400878906 seconds\n",
      "LDA SVD accuracy: 0.960069306930693\n"
     ]
    }
   ],
   "source": [
    "tic = time.time()\n",
    "\n",
    "lda_svd = LDA(\"svd\")\n",
    "lda_svd.fit(X_train, y_train)\n",
    "\n",
    "y_pred_lda_svd = lda_svd.predict(X_test)\n",
    "lda_svd_acc = accuracy_score(y_test, y_pred_lda_svd)\n",
    "\n",
    "duration = time.time() - tic\n",
    "print(f\"Duration: {duration//60} minutes, {duration%60} seconds\")\n",
    "\n",
    "print(f\"LDA SVD accuracy: {lda_svd_acc}\")"
   ]
  },
  {
   "cell_type": "markdown",
   "id": "f09b90aa-9090-4f4b-9a54-ee4b117a47f7",
   "metadata": {},
   "source": [
    "### b. with least-squares minimization"
   ]
  },
  {
   "cell_type": "code",
   "execution_count": 6,
   "id": "508d51e3-fe1f-4213-bdbe-7f5e29665932",
   "metadata": {},
   "outputs": [
    {
     "name": "stdout",
     "output_type": "stream",
     "text": [
      "Duration: 1.0 minutes, 0.13575387001037598 seconds\n",
      "LDA least-squares accuracy: 0.960069306930693\n"
     ]
    }
   ],
   "source": [
    "tic = time.time()\n",
    "\n",
    "lda_ls = LDA(solver = \"lsqr\")\n",
    "lda_ls.fit(X_train, y_train)\n",
    "\n",
    "y_pred_lda_ls = lda_ls.predict(X_test)\n",
    "lda_ls_acc = accuracy_score(y_test, y_pred_lda_ls)\n",
    "\n",
    "duration = time.time() - tic\n",
    "print(f\"Duration: {duration//60} minutes, {duration%60} seconds\")\n",
    "\n",
    "print(f\"LDA least-squares accuracy: {lda_ls_acc}\")"
   ]
  },
  {
   "cell_type": "markdown",
   "id": "adc0ba51-de43-4f54-b9b3-9e831e2a3146",
   "metadata": {},
   "source": [
    "### c. with eigenvalue decomposition"
   ]
  },
  {
   "cell_type": "code",
   "execution_count": 7,
   "id": "5a8b43dc-9dde-4b6d-894c-74f8177ca905",
   "metadata": {},
   "outputs": [
    {
     "name": "stdout",
     "output_type": "stream",
     "text": [
      "Duration: 1.0 minutes, 8.208296060562134 seconds\n",
      "LDA eigenvalue-decomposition accuracy: 0.960069306930693\n"
     ]
    }
   ],
   "source": [
    "tic = time.time()\n",
    "\n",
    "lda_eig = LDA(solver = \"eigen\")\n",
    "lda_eig.fit(X_train, y_train)\n",
    "\n",
    "y_pred_lda_eig = lda_eig.predict(X_test)\n",
    "lda_eig_acc = accuracy_score(y_test, y_pred_lda_eig)\n",
    "\n",
    "duration = time.time() - tic\n",
    "print(f\"Duration: {duration//60} minutes, {duration%60} seconds\")\n",
    "\n",
    "print(f\"LDA eigenvalue-decomposition accuracy: {lda_eig_acc}\")"
   ]
  },
  {
   "cell_type": "markdown",
   "id": "af1165c1-df65-454c-bc4f-036c57e4781d",
   "metadata": {},
   "source": [
    "## 2. Quadratic Discriminant Analysis"
   ]
  },
  {
   "cell_type": "code",
   "execution_count": 8,
   "id": "54341513-e9c5-4dd4-ae9e-b4edbd03866a",
   "metadata": {},
   "outputs": [
    {
     "name": "stdout",
     "output_type": "stream",
     "text": [
      "Duration: 2.0 minutes, 2.703803539276123 seconds\n",
      "QDA accuracy: 0.946\n"
     ]
    }
   ],
   "source": [
    "tic = time.time()\n",
    "\n",
    "qda = QDA()\n",
    "qda.fit(X_train, y_train)\n",
    "\n",
    "y_pred_qda = qda.predict(X_test)\n",
    "qda_acc = accuracy_score(y_test, y_pred_qda)\n",
    "\n",
    "duration = time.time() - tic\n",
    "print(f\"Duration: {duration//60} minutes, {duration%60} seconds\")\n",
    "\n",
    "print(f\"QDA accuracy: {qda_acc}\")"
   ]
  },
  {
   "cell_type": "markdown",
   "id": "49f9347a-d532-44c7-a96f-fb9b3b529564",
   "metadata": {},
   "source": [
    "## 3. Support Vector Machine"
   ]
  },
  {
   "cell_type": "markdown",
   "id": "5ff5d0f4-7ec8-417a-86f6-a2bf24921395",
   "metadata": {},
   "source": [
    "## TODO: Kernel trick"
   ]
  },
  {
   "cell_type": "markdown",
   "id": "b676e1c6-956b-4002-bb06-5fbe990f09f8",
   "metadata": {},
   "source": [
    "### a. C-SVC"
   ]
  },
  {
   "cell_type": "code",
   "execution_count": null,
   "id": "2fca7376-4de6-4b26-be47-cead02f3c47b",
   "metadata": {},
   "outputs": [],
   "source": [
    "# TOO MUCH TIME\n",
    "# tic = time.time()\n",
    "\n",
    "# svc = svm.SVC()\n",
    "# svc.fit(X_train, y_train)\n",
    "\n",
    "# y_pred_svc = svc.predict(X_test)\n",
    "# svc_acc = accuracy_score(y_test, y_pred_svc)\n",
    "\n",
    "# duration = time.time() - tic\n",
    "# print(f\"Duration: {duration//60} minutes, {duration%60} seconds\")\n",
    "\n",
    "# print(f\"C-SVC accuracy: {svc_acc}\")"
   ]
  },
  {
   "cell_type": "markdown",
   "id": "06625a4e-d2d7-49a1-a443-f71fb8b68be5",
   "metadata": {},
   "source": [
    "### b. Linear SVC"
   ]
  },
  {
   "cell_type": "code",
   "execution_count": null,
   "id": "cad577f2-f66e-43cb-bdcd-b1cd3b75bac7",
   "metadata": {},
   "outputs": [
    {
     "name": "stderr",
     "output_type": "stream",
     "text": [
      "/data/aelabd/miniforge3/envs/ml4qick-env/lib/python3.8/site-packages/sklearn/svm/_classes.py:32: FutureWarning: The default value of `dual` will change from `True` to `'auto'` in 1.5. Set the value of `dual` explicitly to suppress the warning.\n",
      "  warnings.warn(\n"
     ]
    }
   ],
   "source": [
    "# TOO MUCH TIME\n",
    "# tic = time.time() \n",
    "\n",
    "# lsvc = svm.LinearSVC()\n",
    "# lsvc.fit(X_train, y_train)\n",
    "\n",
    "# y_pred_lsvc = lsvc.predict(X_test)\n",
    "# lsvc_acc = accuracy_score(y_test, y_pred_lsvc)\n",
    "\n",
    "# duration = time.time() - tic\n",
    "# print(f\"Duration: {duration//60} minutes, {duration%60} seconds\")\n",
    "\n",
    "# print(f\"Linear SVC accuracy: {lsvc_acc}\")"
   ]
  },
  {
   "cell_type": "markdown",
   "id": "0c12f317-9a44-4d7b-a8c6-970e4d2dc31c",
   "metadata": {},
   "source": [
    "### c. Linear SVC with SGD"
   ]
  },
  {
   "cell_type": "code",
   "execution_count": null,
   "id": "e0d0da76-5d81-43ef-90ff-a251c6c66b19",
   "metadata": {},
   "outputs": [],
   "source": [
    "# tic = time.time() \n",
    "\n",
    "# lsvc_sgd = linear_model.SGDClassifier()\n",
    "# lsvc_sgd.fit(X_train, y_train)\n",
    "\n",
    "# y_pred_lsvc_sgd = lsvc_sgd.predict(X_test)\n",
    "# lsvc_sgd_acc = accuracy_score(y_test, y_pred_lsvc_sgd)\n",
    "\n",
    "# duration = time.time() - tic\n",
    "# print(f\"Duration: {duration//60} minutes, {duration%60} seconds\")\n",
    "\n",
    "# print(f\"Linear SVC with SGD accuracy: {lsvc_sgd_acc}\")"
   ]
  },
  {
   "cell_type": "markdown",
   "id": "cb3b7f86-5c10-4c8c-820d-42457416f47b",
   "metadata": {},
   "source": [
    "### d. NuSVC"
   ]
  },
  {
   "cell_type": "code",
   "execution_count": null,
   "id": "87727369-94d7-45c9-b9c6-b8aa5cc8dcef",
   "metadata": {},
   "outputs": [],
   "source": [
    "# tic = time.time() \n",
    "\n",
    "# nu_svc = svm.NuSVC()\n",
    "# nu_svc.fit(X_train, y_train)\n",
    "\n",
    "# y_pred_nu_svc = nu_svc.predict(X_test)\n",
    "# nu_svc_acc = accuracy_score(y_test, y_pred_nu_svc)\n",
    "\n",
    "# duration = time.time() - tic\n",
    "# print(f\"Duration: {duration//60} minutes, {duration%60} seconds\")\n",
    "\n",
    "# print(f\"NuSVC accuracy: {nu_svc_acc}\")"
   ]
  },
  {
   "cell_type": "markdown",
   "id": "a3c1bb0e-7b5b-49a3-bdd2-35ca69b46034",
   "metadata": {},
   "source": [
    "## 4. KNN Classification"
   ]
  },
  {
   "cell_type": "code",
   "execution_count": 9,
   "id": "9bc920de-a19a-459e-bad2-cc4bc4900d29",
   "metadata": {},
   "outputs": [
    {
     "name": "stdout",
     "output_type": "stream",
     "text": [
      "Duration: 5.0 minutes, 7.126683712005615 seconds\n",
      "KNN Classifier accuracy: 0.9365643564356436\n"
     ]
    }
   ],
   "source": [
    "tic = time.time()\n",
    "\n",
    "knn = neighbors.KNeighborsClassifier()\n",
    "knn.fit(X_train, y_train)\n",
    "\n",
    "y_pred_knn = knn.predict(X_test)\n",
    "knn_acc = accuracy_score(y_test, y_pred_knn)\n",
    "\n",
    "duration = time.time() - tic\n",
    "print(f\"Duration: {duration//60} minutes, {duration%60} seconds\")\n",
    "\n",
    "print(f\"KNN Classifier accuracy: {knn_acc}\")"
   ]
  },
  {
   "cell_type": "markdown",
   "id": "c1c77cc6-f424-40e9-8191-62932cb29ab7",
   "metadata": {},
   "source": [
    "## 5. KMeans Clustering"
   ]
  },
  {
   "cell_type": "markdown",
   "id": "b60a34c3-ea7b-4fa5-b1bf-1d9c9f5111ac",
   "metadata": {},
   "source": [
    "### a. With 2 clusters: 0, 1"
   ]
  },
  {
   "cell_type": "code",
   "execution_count": 12,
   "id": "d8a1c20c-bace-46ed-be1c-7793e7452e37",
   "metadata": {},
   "outputs": [
    {
     "name": "stderr",
     "output_type": "stream",
     "text": [
      "/data/aelabd/miniforge3/envs/ml4qick-env/lib/python3.8/site-packages/sklearn/cluster/_kmeans.py:1416: FutureWarning: The default value of `n_init` will change from 10 to 'auto' in 1.4. Set the value of `n_init` explicitly to suppress the warning\n",
      "  super()._check_params_vs_input(X, default_n_init=10)\n"
     ]
    },
    {
     "name": "stdout",
     "output_type": "stream",
     "text": [
      "Clusters = labels\n",
      "Duration: 0.0 minutes, 27.47554850578308 seconds\n",
      "KMeans 2-cluster accuracy: 0.956019801980198\n"
     ]
    }
   ],
   "source": [
    "tic = time.time()\n",
    "\n",
    "kmeans_2 = cluster.KMeans(n_clusters = 2)\n",
    "kmeans_2.fit(X_train)\n",
    "\n",
    "y_pred_kmeans_2 = kmeans_2.predict(X_test)\n",
    "kmeans_2_acc = accuracy_score(y_test, y_pred_kmeans_2)\n",
    "\n",
    "# The clustering might be opposite to the training labels, check here\n",
    "y_pred_kmeans_2_swapped = 1 - y_pred_kmeans_2\n",
    "kmeans_2_swapped_acc = accuracy_score(y_test, y_pred_kmeans_2_swapped)\n",
    "\n",
    "if kmeans_2_acc > kmeans_2_swapped_acc:\n",
    "    print(\"Clusters = labels\")\n",
    "    kmeans_2_acc_fr = kmeans_2_acc\n",
    "elif kmeans_2_acc < kmeans_2_swapped_acc:\n",
    "    print(\"Clusters = !labels\")\n",
    "    kmeans_2_acc_fr = kmeans_2_swapped_acc\n",
    "else:\n",
    "    print(\"No better than chance\")\n",
    "    kmeans_2_acc_fr = np.nan\n",
    "    \n",
    "duration = time.time() - tic\n",
    "print(f\"Duration: {duration//60} minutes, {duration%60} seconds\")\n",
    "\n",
    "print(f\"KMeans 2-cluster accuracy: {kmeans_2_acc_fr}\")"
   ]
  },
  {
   "cell_type": "markdown",
   "id": "9059ed8e-b2ea-4225-9efc-3f3996118b5f",
   "metadata": {},
   "source": [
    "### b. With 3 clusters: 0, 1, indeterminate (in theory)"
   ]
  },
  {
   "cell_type": "code",
   "execution_count": 16,
   "id": "ea410838-32a7-4935-b1d9-114e2f6c01c2",
   "metadata": {},
   "outputs": [],
   "source": [
    "# def gen_mappings(clusters, labels): \n",
    "#     # clusters = list of all cluster indeces (e.g. [0,1,2] for 3 clusters)\n",
    "#     # labels = list of possible labels (e.g. [0,1] for binary labels)\n",
    "#     assert(len(clusters) == len(labels))\n",
    "\n",
    "#     cluster_src = clusters\n",
    "#     possible_label_dests = list(permutations(labels))\n",
    "#     mappings = []\n",
    "\n",
    "#     for label_dest in possible_label_dests:\n",
    "#         map = {cluster_src[i]: label_dest[i] for i in range(len(label_dest))}\n",
    "#         mappings.append(map)\n",
    "\n",
    "#     return mappings\n",
    "\n",
    "# def evaluate_mapping(y_test, y_pred, mapping):\n",
    "#     y_pred_mapped = np.array([mapping[i] for i in y_pred])\n",
    "\n",
    "#     determinate_indeces = [i for i in range(len(y_pred_mapped)) if y_pred_mapped[i] in [\"0\",\"1\"]]\n",
    "#     n_determinate = len(determinate_indeces)\n",
    "\n",
    "#     y_pred_mapped_determinate = np.array(y_pred_mapped[determinate_indeces]).astype(int)\n",
    "#     y_test_determinate = np.array(y_test[determinate_indeces])\n",
    "#     acc = accuracy_score(y_test_determinate, y_pred_mapped_determinate)\n",
    "\n",
    "#     out = {\"mapping\": mapping,\n",
    "#            \"Accuracy\": acc,\n",
    "#            \"n_determinate\": n_determinate}\n",
    "#     return out"
   ]
  },
  {
   "cell_type": "code",
   "execution_count": 17,
   "id": "a10fabcd-106d-453d-9793-c2ee6b4cc5e9",
   "metadata": {},
   "outputs": [
    {
     "name": "stderr",
     "output_type": "stream",
     "text": [
      "/data/aelabd/miniforge3/envs/ml4qick-env/lib/python3.8/site-packages/sklearn/cluster/_kmeans.py:1416: FutureWarning: The default value of `n_init` will change from 10 to 'auto' in 1.4. Set the value of `n_init` explicitly to suppress the warning\n",
      "  super()._check_params_vs_input(X, default_n_init=10)\n"
     ]
    },
    {
     "name": "stdout",
     "output_type": "stream",
     "text": [
      "Training duration: 1.0 minutes, 28.349881172180176 seconds\n",
      "\n",
      "KMeans 3-cluster optimal mapping: {'mapping': {0: 0, 1: 1, 2: 'indeterminate'}, 'Accuracy': 0.9750820499873769, 'n_determinate': 79220}\n",
      "\n",
      "mapping: {0: 0, 1: 1, 2: 'indeterminate'}\n",
      "Accuracy: 0.9750820499873769\n",
      "n_determinate: 79220\n",
      "\n",
      "mapping: {0: 0, 1: 'indeterminate', 2: 1}\n",
      "Accuracy: 0.6236639789986874\n",
      "n_determinate: 53330\n",
      "\n",
      "mapping: {0: 1, 1: 0, 2: 'indeterminate'}\n",
      "Accuracy: 0.024917950012623074\n",
      "n_determinate: 79220\n",
      "\n",
      "mapping: {0: 1, 1: 'indeterminate', 2: 0}\n",
      "Accuracy: 0.3763360210013126\n",
      "n_determinate: 53330\n",
      "\n",
      "mapping: {0: 'indeterminate', 1: 0, 2: 1}\n",
      "Accuracy: 0.05304535637149028\n",
      "n_determinate: 69450\n",
      "\n",
      "mapping: {0: 'indeterminate', 1: 1, 2: 0}\n",
      "Accuracy: 0.9469546436285097\n",
      "n_determinate: 69450\n"
     ]
    }
   ],
   "source": [
    "# tic = time.time()\n",
    "\n",
    "# kmeans_3 = cluster.KMeans(n_clusters = 3)\n",
    "# kmeans_3.fit(X_train)\n",
    "\n",
    "# duration = time.time() - tic\n",
    "# print(f\"Training duration: {duration//60} minutes, {duration%60} seconds\")\n",
    "\n",
    "# # 0 = 0, 1 = 1, 2 = indeterminate\n",
    "# y_pred_kmeans_3 = kmeans_3.predict(X_test)\n",
    "\n",
    "# # Evaluate all possible mappings between clusters and labels\n",
    "# clusters_kmeans_3 = [0, 1, 2]\n",
    "# qubit_states_kmeans_3 = [0, 1, \"indeterminate\"]\n",
    "# all_mappings_kmeans_3 = gen_mappings(clusters_kmeans_3, qubit_states_kmeans_3)\n",
    "\n",
    "# best_acc_kmeans_3 = 0\n",
    "# optimal_map_dict = None\n",
    "# all_performances_kmeans_3 = []\n",
    "# for mapping in all_mappings_kmeans_3:\n",
    "#     mapping_performance_dict = evaluate_mapping(y_test, y_pred_kmeans_3, mapping)\n",
    "#     all_performances_kmeans_3.append(mapping_performance_dict)\n",
    "\n",
    "#     if mapping_performance_dict[\"Accuracy\"] > best_acc_kmeans_3:\n",
    "#         best_acc_kmeans_3 = mapping_performance_dict[\"Accuracy\"]\n",
    "#         optimal_map_dict = mapping_performance_dict\n",
    "        \n",
    "# print(f\"\\nKMeans 3-cluster optimal mapping: {optimal_map_dict}\")\n",
    "\n",
    "# for i in all_performances_kmeans_3:\n",
    "#     print(\"\")\n",
    "#     for k,v in i.items():\n",
    "#         print(f\"{k}: {v}\")"
   ]
  },
  {
   "cell_type": "code",
   "execution_count": 18,
   "id": "06886096-b721-48d7-ae14-e9debfafabc5",
   "metadata": {},
   "outputs": [
    {
     "data": {
      "text/plain": [
       "101000"
      ]
     },
     "execution_count": 18,
     "metadata": {},
     "output_type": "execute_result"
    }
   ],
   "source": [
    "# len(y_test)"
   ]
  },
  {
   "cell_type": "markdown",
   "id": "7f37e918-6916-4b9a-a217-42e720af47b2",
   "metadata": {},
   "source": [
    "### c. With 4 clusters: 0, 1, excitation error (0 --> 1), relaxation error (1 --> 0) (again, in theory)"
   ]
  },
  {
   "cell_type": "code",
   "execution_count": 19,
   "id": "860f84ef-6775-4e6e-9399-f53a4f8b0eb6",
   "metadata": {},
   "outputs": [
    {
     "name": "stderr",
     "output_type": "stream",
     "text": [
      "/data/aelabd/miniforge3/envs/ml4qick-env/lib/python3.8/site-packages/sklearn/cluster/_kmeans.py:1416: FutureWarning: The default value of `n_init` will change from 10 to 'auto' in 1.4. Set the value of `n_init` explicitly to suppress the warning\n",
      "  super()._check_params_vs_input(X, default_n_init=10)\n"
     ]
    },
    {
     "name": "stdout",
     "output_type": "stream",
     "text": [
      "Training duration: 2.0 minutes, 44.69277739524841 seconds\n",
      "\n",
      "KMeans 4-cluster optimal mapping: {'mapping': {0: 1, 1: 'excitation-error', 2: 0, 3: 'relaxation-error'}, 'Accuracy': 0.9731055598079466, 'n_determinate': 57484}\n",
      "\n",
      "mapping: {0: 0, 1: 1, 2: 'excitation-error', 3: 'relaxation-error'}\n",
      "Accuracy: 0.05777649214154855\n",
      "n_determinate: 51855\n",
      "\n",
      "mapping: {0: 0, 1: 1, 2: 'relaxation-error', 3: 'excitation-error'}\n",
      "Accuracy: 0.05777649214154855\n",
      "n_determinate: 51855\n",
      "\n",
      "mapping: {0: 0, 1: 'excitation-error', 2: 1, 3: 'relaxation-error'}\n",
      "Accuracy: 0.02689444019205344\n",
      "n_determinate: 57484\n",
      "\n",
      "mapping: {0: 0, 1: 'excitation-error', 2: 'relaxation-error', 3: 1}\n",
      "Accuracy: 0.41551591668916255\n",
      "n_determinate: 48157\n",
      "\n",
      "mapping: {0: 0, 1: 'relaxation-error', 2: 1, 3: 'excitation-error'}\n",
      "Accuracy: 0.02689444019205344\n",
      "n_determinate: 57484\n",
      "\n",
      "mapping: {0: 0, 1: 'relaxation-error', 2: 'excitation-error', 3: 1}\n",
      "Accuracy: 0.41551591668916255\n",
      "n_determinate: 48157\n",
      "\n",
      "mapping: {0: 1, 1: 0, 2: 'excitation-error', 3: 'relaxation-error'}\n",
      "Accuracy: 0.9422235078584514\n",
      "n_determinate: 51855\n",
      "\n",
      "mapping: {0: 1, 1: 0, 2: 'relaxation-error', 3: 'excitation-error'}\n",
      "Accuracy: 0.9422235078584514\n",
      "n_determinate: 51855\n",
      "\n",
      "mapping: {0: 1, 1: 'excitation-error', 2: 0, 3: 'relaxation-error'}\n",
      "Accuracy: 0.9731055598079466\n",
      "n_determinate: 57484\n",
      "\n",
      "mapping: {0: 1, 1: 'excitation-error', 2: 'relaxation-error', 3: 0}\n",
      "Accuracy: 0.5844840833108375\n",
      "n_determinate: 48157\n",
      "\n",
      "mapping: {0: 1, 1: 'relaxation-error', 2: 0, 3: 'excitation-error'}\n",
      "Accuracy: 0.9731055598079466\n",
      "n_determinate: 57484\n",
      "\n",
      "mapping: {0: 1, 1: 'relaxation-error', 2: 'excitation-error', 3: 0}\n",
      "Accuracy: 0.5844840833108375\n",
      "n_determinate: 48157\n",
      "\n",
      "mapping: {0: 'excitation-error', 1: 0, 2: 1, 3: 'relaxation-error'}\n",
      "Accuracy: 0.41929867721363284\n",
      "n_determinate: 52843\n",
      "\n",
      "mapping: {0: 'excitation-error', 1: 0, 2: 'relaxation-error', 3: 1}\n",
      "Accuracy: 0.93347274565677\n",
      "n_determinate: 43516\n",
      "\n",
      "mapping: {0: 'excitation-error', 1: 1, 2: 0, 3: 'relaxation-error'}\n",
      "Accuracy: 0.5807013227863672\n",
      "n_determinate: 52843\n",
      "\n",
      "mapping: {0: 'excitation-error', 1: 1, 2: 'relaxation-error', 3: 0}\n",
      "Accuracy: 0.06652725434323008\n",
      "n_determinate: 43516\n",
      "\n",
      "mapping: {0: 'excitation-error', 1: 'relaxation-error', 2: 0, 3: 1}\n",
      "Accuracy: 0.9705972123308577\n",
      "n_determinate: 49145\n",
      "\n",
      "mapping: {0: 'excitation-error', 1: 'relaxation-error', 2: 1, 3: 0}\n",
      "Accuracy: 0.029402787669142335\n",
      "n_determinate: 49145\n",
      "\n",
      "mapping: {0: 'relaxation-error', 1: 0, 2: 1, 3: 'excitation-error'}\n",
      "Accuracy: 0.41929867721363284\n",
      "n_determinate: 52843\n",
      "\n",
      "mapping: {0: 'relaxation-error', 1: 0, 2: 'excitation-error', 3: 1}\n",
      "Accuracy: 0.93347274565677\n",
      "n_determinate: 43516\n",
      "\n",
      "mapping: {0: 'relaxation-error', 1: 1, 2: 0, 3: 'excitation-error'}\n",
      "Accuracy: 0.5807013227863672\n",
      "n_determinate: 52843\n",
      "\n",
      "mapping: {0: 'relaxation-error', 1: 1, 2: 'excitation-error', 3: 0}\n",
      "Accuracy: 0.06652725434323008\n",
      "n_determinate: 43516\n",
      "\n",
      "mapping: {0: 'relaxation-error', 1: 'excitation-error', 2: 0, 3: 1}\n",
      "Accuracy: 0.9705972123308577\n",
      "n_determinate: 49145\n",
      "\n",
      "mapping: {0: 'relaxation-error', 1: 'excitation-error', 2: 1, 3: 0}\n",
      "Accuracy: 0.029402787669142335\n",
      "n_determinate: 49145\n"
     ]
    }
   ],
   "source": [
    "# tic = time.time()\n",
    "\n",
    "# kmeans_4 = cluster.KMeans(n_clusters = 4)\n",
    "# kmeans_4.fit(X_train)\n",
    "\n",
    "# duration = time.time() - tic\n",
    "# print(f\"Training duration: {duration//60} minutes, {duration%60} seconds\")\n",
    "\n",
    "# # 0 = 0, 1 = 1, 2 = indeterminate\n",
    "# y_pred_km4 = kmeans_4.predict(X_test)\n",
    "\n",
    "# # Evaluate all possible mappings between clusters and labels\n",
    "# clusters_km4 = [0, 1, 2, 3]\n",
    "# qubit_states_km4 = [0, 1, \"excitation-error\", \"relaxation-error\"]\n",
    "# all_mappings_km4 = gen_mappings(clusters_km4, qubit_states_km4)\n",
    "\n",
    "# best_acc_km4 = 0\n",
    "# optimal_map_dict_km4 = None\n",
    "# all_performances_km4 = []\n",
    "# for mapping in all_mappings_km4:\n",
    "#     mapping_performance_dict = evaluate_mapping(y_test, y_pred_km4, mapping)\n",
    "#     all_performances_km4.append(mapping_performance_dict)\n",
    "\n",
    "#     if mapping_performance_dict[\"Accuracy\"] > best_acc_km4:\n",
    "#         best_acc_km4 = mapping_performance_dict[\"Accuracy\"]\n",
    "#         optimal_map_dict_km4 = mapping_performance_dict\n",
    "        \n",
    "# print(f\"\\nKMeans 4-cluster optimal mapping: {optimal_map_dict_km4}\")\n",
    "\n",
    "# for i in all_performances_km4:\n",
    "#     print(\"\")\n",
    "#     for k,v in i.items():\n",
    "#         print(f\"{k}: {v}\")"
   ]
  },
  {
   "cell_type": "markdown",
   "id": "7a401b51-603b-45f2-984a-a47d61069e4d",
   "metadata": {},
   "source": [
    "## 6. Gaussian Naive-Bayes"
   ]
  },
  {
   "cell_type": "code",
   "execution_count": 10,
   "id": "e851ef77-b9f0-45e1-adbe-b61d372e33e9",
   "metadata": {},
   "outputs": [
    {
     "name": "stdout",
     "output_type": "stream",
     "text": [
      "Duration: 0.0 minutes, 17.968596935272217 seconds\n",
      "Gaussian Naive-Bayes accuracy: 0.9572970297029703\n"
     ]
    }
   ],
   "source": [
    "tic = time.time()\n",
    "\n",
    "gnb = naive_bayes.GaussianNB()\n",
    "gnb.fit(X_train, y_train)\n",
    "\n",
    "y_pred_gnb = gnb.predict(X_test)\n",
    "gnb_acc = accuracy_score(y_test, y_pred_gnb)\n",
    "\n",
    "duration = time.time() - tic\n",
    "print(f\"Duration: {duration//60} minutes, {duration%60} seconds\")\n",
    "\n",
    "print(f\"Gaussian Naive-Bayes accuracy: {gnb_acc}\")"
   ]
  },
  {
   "cell_type": "markdown",
   "id": "1874b3d1-4dee-452e-b0a4-80bc7250b32e",
   "metadata": {},
   "source": [
    "## 7. Transformer model"
   ]
  },
  {
   "cell_type": "code",
   "execution_count": null,
   "id": "0b11e10d-e8dd-424f-8de4-09696670a7df",
   "metadata": {},
   "outputs": [],
   "source": []
  }
 ],
 "metadata": {
  "kernelspec": {
   "display_name": "Python 3 (ipykernel)",
   "language": "python",
   "name": "python3"
  },
  "language_info": {
   "codemirror_mode": {
    "name": "ipython",
    "version": 3
   },
   "file_extension": ".py",
   "mimetype": "text/x-python",
   "name": "python",
   "nbconvert_exporter": "python",
   "pygments_lexer": "ipython3",
   "version": "3.8.18"
  }
 },
 "nbformat": 4,
 "nbformat_minor": 5
}
