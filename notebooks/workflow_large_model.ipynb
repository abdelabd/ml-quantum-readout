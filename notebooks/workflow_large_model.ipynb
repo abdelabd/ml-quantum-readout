{
 "cells": [
  {
   "cell_type": "code",
   "execution_count": 1,
   "metadata": {},
   "outputs": [
    {
     "name": "stderr",
     "output_type": "stream",
     "text": [
      "2024-04-07 18:06:14.880836: I tensorflow/core/platform/cpu_feature_guard.cc:193] This TensorFlow binary is optimized with oneAPI Deep Neural Network Library (oneDNN) to use the following CPU instructions in performance-critical operations:  AVX2 AVX512F FMA\n",
      "To enable them in other operations, rebuild TensorFlow with the appropriate compiler flags.\n",
      "2024-04-07 18:06:14.992409: W tensorflow/compiler/xla/stream_executor/platform/default/dso_loader.cc:64] Could not load dynamic library 'libcudart.so.11.0'; dlerror: libcudart.so.11.0: cannot open shared object file: No such file or directory\n",
      "2024-04-07 18:06:14.992431: I tensorflow/compiler/xla/stream_executor/cuda/cudart_stub.cc:29] Ignore above cudart dlerror if you do not have a GPU set up on your machine.\n",
      "2024-04-07 18:06:15.489466: W tensorflow/compiler/xla/stream_executor/platform/default/dso_loader.cc:64] Could not load dynamic library 'libnvinfer.so.7'; dlerror: libnvinfer.so.7: cannot open shared object file: No such file or directory\n",
      "2024-04-07 18:06:15.489528: W tensorflow/compiler/xla/stream_executor/platform/default/dso_loader.cc:64] Could not load dynamic library 'libnvinfer_plugin.so.7'; dlerror: libnvinfer_plugin.so.7: cannot open shared object file: No such file or directory\n",
      "2024-04-07 18:06:15.489537: W tensorflow/compiler/tf2tensorrt/utils/py_utils.cc:38] TF-TRT Warning: Cannot dlopen some TensorRT libraries. If you would like to use Nvidia GPU with TensorRT, please make sure the missing libraries mentioned above are installed properly.\n"
     ]
    },
    {
     "name": "stdout",
     "output_type": "stream",
     "text": [
      "WARN: Unable to import optimizer(s) from expr_templates.py: No module named 'sympy'\n",
      "WARNING: Failed to import handlers from convolution.py: No module named 'torch'.\n",
      "WARNING: Failed to import handlers from core.py: No module named 'torch'.\n",
      "WARNING: Failed to import handlers from merge.py: No module named 'torch'.\n",
      "WARNING: Failed to import handlers from pooling.py: No module named 'torch'.\n",
      "WARNING: Failed to import handlers from reshape.py: No module named 'torch'.\n"
     ]
    },
    {
     "name": "stderr",
     "output_type": "stream",
     "text": [
      "/data/aelabd/miniforge3/envs/ml4qick-env/lib/python3.8/site-packages/hls4ml/converters/__init__.py:27: UserWarning: WARNING: Pytorch converter is not enabled!\n",
      "  warnings.warn(\"WARNING: Pytorch converter is not enabled!\", stacklevel=1)\n"
     ]
    }
   ],
   "source": [
    "import os \n",
    "import sys \n",
    "sys.path.append(\"../training\")\n",
    "import pickle\n",
    "import copy\n",
    "\n",
    "import hls4ml \n",
    "import numpy as np\n",
    "import matplotlib.pyplot as plt \n",
    "from sklearn.metrics import accuracy_score, auc, roc_curve\n",
    "\n",
    "import tensorflow as tf\n",
    "from tensorflow.keras.optimizers import Adam\n",
    "from tensorflow.keras.models import Sequential\n",
    "from tensorflow.keras.layers import Dense, Activation, BatchNormalization, Dropout\n",
    "from tensorflow.keras.callbacks import ReduceLROnPlateau, ModelCheckpoint\n",
    "from tensorflow.keras.losses import CategoricalCrossentropy\n",
    "\n",
    "from tensorflow_model_optimization.python.core.sparsity.keras import prune, pruning_callbacks, pruning_schedule\n",
    "from tensorflow_model_optimization.sparsity.keras import strip_pruning\n",
    "import tensorflow_model_optimization as tfmot\n",
    "\n",
    "from qkeras.qlayers import QDense, QActivation\n",
    "from qkeras import QBatchNormalization\n",
    "from qkeras.quantizers import quantized_bits, quantized_relu\n",
    "from qkeras.utils import _add_supported_quantized_objects\n",
    "from tensorflow.keras.models import load_model\n",
    "from qkeras.utils import _add_supported_quantized_objects\n",
    "\n",
    "# Local imports\n",
    "from save_data import process_data"
   ]
  },
  {
   "cell_type": "markdown",
   "metadata": {},
   "source": [
    "## Setup data"
   ]
  },
  {
   "cell_type": "code",
   "execution_count": 2,
   "metadata": {},
   "outputs": [],
   "source": [
    "def one_hot_encode(data):\n",
    "    y_encoded = np.zeros([data.shape[0],2], dtype=np.int32)\n",
    "    for idx, x in enumerate(data):\n",
    "        if x == 1:\n",
    "            y_encoded[idx][1] = 1\n",
    "        else:\n",
    "            y_encoded[idx][0] = 1\n",
    "    return y_encoded"
   ]
  },
  {
   "cell_type": "code",
   "execution_count": 3,
   "metadata": {},
   "outputs": [],
   "source": [
    "START_WINDOW = 0\n",
    "END_WINDOW = 770\n",
    "DATA_DIR = \"../data/data_0\"\n",
    "\n",
    "# convert raw ADC data into npy files \n",
    "if os.path.exists(f\"{DATA_DIR}/X_train.npy\") == False:\n",
    "    process_data(\n",
    "        start_window=START_WINDOW,\n",
    "        end_window=END_WINDOW, \n",
    "        data_dir=DATA_DIR\n",
    "    )"
   ]
  },
  {
   "cell_type": "code",
   "execution_count": 4,
   "metadata": {},
   "outputs": [
    {
     "name": "stdout",
     "output_type": "stream",
     "text": [
      "Training:\n",
      "\tSize: 909000\n",
      "\tSample Shape: 1540\n",
      "\tMean: -50.80006179189348\n",
      "\tStd. Dev.: 1757.8248912271774\n",
      "Testing:\n",
      "\tSize: 101000\n",
      "\tSample Shape: 1540\n",
      "\tSample Shape: -44.14494603317475\n",
      "\tStd. Dev.: 1756.0220686228422\n"
     ]
    }
   ],
   "source": [
    "# load data\n",
    "X_train_val = np.load(os.path.join(DATA_DIR, 'X_train.npy'))\n",
    "X_test = np.load(os.path.join(DATA_DIR, 'X_test.npy'))    \n",
    "y_train_val = np.load(os.path.join(DATA_DIR, 'y_train.npy'))\n",
    "y_test = np.load(os.path.join(DATA_DIR, 'y_test.npy'))\n",
    "\n",
    "y_train_val = one_hot_encode(y_train_val) # 1xN binary --> 2xN one-hot-encoded\n",
    "y_test = one_hot_encode(y_test)\n",
    "\n",
    "print(\"Training:\")\n",
    "print(\"\\tSize:\", len(X_train_val))\n",
    "print(\"\\tSample Shape:\", len(X_train_val[0]))\n",
    "print(\"\\tMean:\", X_train_val.mean())\n",
    "print(\"\\tStd. Dev.:\", X_train_val.std())\n",
    "\n",
    "print(\"Testing:\")\n",
    "print(\"\\tSize:\", len(X_test))\n",
    "print(\"\\tSample Shape:\", len(X_test[0]))\n",
    "print(\"\\tSample Shape:\", X_test.mean())\n",
    "print(\"\\tStd. Dev.:\", X_test.std())\n",
    "\n",
    "# X_train_val[0] = I, Q timeseries over (END_WINDOW - START_WINDOW) timesteps\n",
    "assert len(X_train_val[0]) == (END_WINDOW-START_WINDOW)*2, \"ERROR: Specified window does not match loaded dataset shape\"\n",
    "assert len(X_test[0]) == (END_WINDOW-START_WINDOW)*2, \"ERROR: Specified window does not match loaded dataset shape\""
   ]
  },
  {
   "cell_type": "markdown",
   "metadata": {},
   "source": [
    "## Construct a model \n",
    "QKeras is \"Quantized Keras\" for deep heterogeneous quantization of ML models. We're using QDense layer instead of Dense. We're also training with model sparsity, since QKeras layers are prunable."
   ]
  },
  {
   "cell_type": "code",
   "execution_count": 5,
   "metadata": {},
   "outputs": [
    {
     "name": "stdout",
     "output_type": "stream",
     "text": [
      "(1540,)\n"
     ]
    }
   ],
   "source": [
    "INIT_LEARNING_RATE = 1e-2\n",
    "VALIDATION_SPLIT = 0.3\n",
    "BATCH_SIZE = 12800\n",
    "EPOCHS = 50\n",
    "CHECKPOINT_FILENAME = \"qmodel.h5\"\n",
    "INPUT_SHAPE = (len(X_train_val[0]),)\n",
    "print(INPUT_SHAPE)"
   ]
  },
  {
   "cell_type": "code",
   "execution_count": 6,
   "metadata": {},
   "outputs": [
    {
     "name": "stderr",
     "output_type": "stream",
     "text": [
      "2024-04-07 18:06:30.269965: W tensorflow/compiler/xla/stream_executor/platform/default/dso_loader.cc:64] Could not load dynamic library 'libcuda.so.1'; dlerror: libcuda.so.1: cannot open shared object file: No such file or directory\n",
      "2024-04-07 18:06:30.270002: W tensorflow/compiler/xla/stream_executor/cuda/cuda_driver.cc:265] failed call to cuInit: UNKNOWN ERROR (303)\n",
      "2024-04-07 18:06:30.270030: I tensorflow/compiler/xla/stream_executor/cuda/cuda_diagnostics.cc:156] kernel driver does not appear to be running on this host (correlator3.fnal.gov): /proc/driver/nvidia/version does not exist\n",
      "2024-04-07 18:06:30.270323: I tensorflow/core/platform/cpu_feature_guard.cc:193] This TensorFlow binary is optimized with oneAPI Deep Neural Network Library (oneDNN) to use the following CPU instructions in performance-critical operations:  AVX2 AVX512F FMA\n",
      "To enable them in other operations, rebuild TensorFlow with the appropriate compiler flags.\n"
     ]
    },
    {
     "name": "stdout",
     "output_type": "stream",
     "text": [
      "WARNING:tensorflow:From /data/aelabd/miniforge3/envs/ml4qick-env/lib/python3.8/site-packages/tensorflow/python/autograph/pyct/static_analysis/liveness.py:83: Analyzer.lamba_check (from tensorflow.python.autograph.pyct.static_analysis.liveness) is deprecated and will be removed after 2023-09-23.\n",
      "Instructions for updating:\n",
      "Lambda fuctions will be no more assumed to be used in the statement where they are used, or at least in the same block. https://github.com/tensorflow/tensorflow/issues/56089\n",
      "=============================Model Summary=============================\n",
      "Model: \"sequential\"\n",
      "_________________________________________________________________\n",
      " Layer (type)                Output Shape              Param #   \n",
      "=================================================================\n",
      " prune_low_magnitude_fc1 (Pr  (None, 10)               30812     \n",
      " uneLowMagnitude)                                                \n",
      "                                                                 \n",
      " prune_low_magnitude_batch_n  (None, 10)               41        \n",
      " ormalization (PruneLowMagni                                     \n",
      " tude)                                                           \n",
      "                                                                 \n",
      " prune_low_magnitude_fc2 (Pr  (None, 2)                44        \n",
      " uneLowMagnitude)                                                \n",
      "                                                                 \n",
      "=================================================================\n",
      "Total params: 30,897\n",
      "Trainable params: 15,452\n",
      "Non-trainable params: 15,445\n",
      "_________________________________________________________________\n",
      "None\n",
      "=======================================================================\n"
     ]
    }
   ],
   "source": [
    "# Define model with quantize layers \n",
    "model = Sequential()\n",
    "model.add(QDense(10, input_shape=INPUT_SHAPE, name='fc1', kernel_quantizer=quantized_bits(6,0,alpha=1), bias_quantizer=quantized_bits(6,0,alpha=1),))\n",
    "model.add(BatchNormalization())\n",
    "model.add(QDense(2, input_shape=(10,), name='fc2', kernel_quantizer=quantized_bits(6,0,alpha=1), bias_quantizer=quantized_bits(6,0,alpha=1),))\n",
    "\n",
    "# adding pruning \n",
    "pruning_params = {'pruning_schedule': tfmot.sparsity.keras.PolynomialDecay(initial_sparsity=0.50, final_sparsity=0.80, begin_step=200, end_step=1000)}\n",
    "model = prune.prune_low_magnitude(model, **pruning_params)\n",
    "\n",
    "print('=============================Model Summary=============================')\n",
    "print(model.summary())\n",
    "print('=======================================================================')"
   ]
  },
  {
   "cell_type": "code",
   "execution_count": 7,
   "metadata": {},
   "outputs": [],
   "source": [
    "callbacks = [\n",
    "        ModelCheckpoint(\n",
    "        CHECKPOINT_FILENAME,\n",
    "        monitor=\"val_loss\",\n",
    "        verbose=0,\n",
    "        save_best_only=True,\n",
    "        save_weights_only=False,\n",
    "        save_freq=\"epoch\",\n",
    "    ),\n",
    "    ReduceLROnPlateau(patience=75, min_delta=1**-6),\n",
    "    pruning_callbacks.UpdatePruningStep(),\n",
    "]\n"
   ]
  },
  {
   "cell_type": "markdown",
   "metadata": {},
   "source": [
    "## Train the model "
   ]
  },
  {
   "cell_type": "code",
   "execution_count": 8,
   "metadata": {
    "scrolled": true
   },
   "outputs": [
    {
     "name": "stderr",
     "output_type": "stream",
     "text": [
      "2024-04-07 18:06:33.196579: W tensorflow/tsl/framework/cpu_allocator_impl.cc:82] Allocation of 3919608000 exceeds 10% of free system memory.\n"
     ]
    },
    {
     "name": "stdout",
     "output_type": "stream",
     "text": [
      "Epoch 1/50\n",
      "50/50 [==============================] - 5s 76ms/step - loss: 0.1803 - accuracy: 0.9503 - val_loss: 0.3947 - val_accuracy: 0.8496 - lr: 0.0100\n",
      "Epoch 2/50\n",
      "50/50 [==============================] - 2s 40ms/step - loss: 0.1581 - accuracy: 0.9630 - val_loss: 0.2047 - val_accuracy: 0.9419 - lr: 0.0100\n",
      "Epoch 3/50\n",
      "50/50 [==============================] - 2s 39ms/step - loss: 0.1570 - accuracy: 0.9636 - val_loss: 0.1739 - val_accuracy: 0.9566 - lr: 0.0100\n",
      "Epoch 4/50\n",
      "50/50 [==============================] - 2s 40ms/step - loss: 0.1571 - accuracy: 0.9636 - val_loss: 0.1787 - val_accuracy: 0.9633 - lr: 0.0100\n",
      "Epoch 5/50\n",
      "50/50 [==============================] - 2s 39ms/step - loss: 0.1584 - accuracy: 0.9636 - val_loss: 0.1586 - val_accuracy: 0.9633 - lr: 0.0100\n",
      "Epoch 6/50\n",
      "50/50 [==============================] - 2s 39ms/step - loss: 0.1570 - accuracy: 0.9637 - val_loss: 0.1615 - val_accuracy: 0.9629 - lr: 0.0100\n",
      "Epoch 7/50\n",
      "50/50 [==============================] - 2s 39ms/step - loss: 0.1572 - accuracy: 0.9636 - val_loss: 0.1595 - val_accuracy: 0.9632 - lr: 0.0100\n",
      "Epoch 8/50\n",
      "50/50 [==============================] - 2s 40ms/step - loss: 0.1569 - accuracy: 0.9636 - val_loss: 0.1681 - val_accuracy: 0.9627 - lr: 0.0100\n",
      "Epoch 9/50\n",
      "50/50 [==============================] - 2s 39ms/step - loss: 0.1576 - accuracy: 0.9637 - val_loss: 0.1595 - val_accuracy: 0.9632 - lr: 0.0100\n",
      "Epoch 10/50\n",
      "50/50 [==============================] - 2s 40ms/step - loss: 0.1572 - accuracy: 0.9637 - val_loss: 0.1668 - val_accuracy: 0.9623 - lr: 0.0100\n",
      "Epoch 11/50\n",
      "50/50 [==============================] - 2s 38ms/step - loss: 0.1580 - accuracy: 0.9634 - val_loss: 0.1608 - val_accuracy: 0.9630 - lr: 0.0100\n",
      "Epoch 12/50\n",
      "50/50 [==============================] - 2s 40ms/step - loss: 0.1574 - accuracy: 0.9636 - val_loss: 0.1644 - val_accuracy: 0.9625 - lr: 0.0100\n",
      "Epoch 13/50\n",
      "50/50 [==============================] - 2s 39ms/step - loss: 0.1578 - accuracy: 0.9634 - val_loss: 0.1598 - val_accuracy: 0.9632 - lr: 0.0100\n",
      "Epoch 14/50\n",
      "50/50 [==============================] - 2s 38ms/step - loss: 0.1576 - accuracy: 0.9635 - val_loss: 0.1705 - val_accuracy: 0.9622 - lr: 0.0100\n",
      "Epoch 15/50\n",
      "50/50 [==============================] - 2s 39ms/step - loss: 0.1602 - accuracy: 0.9631 - val_loss: 0.1607 - val_accuracy: 0.9627 - lr: 0.0100\n",
      "Epoch 16/50\n",
      "50/50 [==============================] - 2s 40ms/step - loss: 0.1590 - accuracy: 0.9632 - val_loss: 0.1620 - val_accuracy: 0.9626 - lr: 0.0100\n",
      "Epoch 17/50\n",
      "50/50 [==============================] - 2s 39ms/step - loss: 0.1592 - accuracy: 0.9631 - val_loss: 0.1607 - val_accuracy: 0.9627 - lr: 0.0100\n",
      "Epoch 18/50\n",
      "50/50 [==============================] - 2s 39ms/step - loss: 0.1589 - accuracy: 0.9632 - val_loss: 0.1609 - val_accuracy: 0.9627 - lr: 0.0100\n",
      "Epoch 19/50\n",
      "50/50 [==============================] - 2s 39ms/step - loss: 0.1590 - accuracy: 0.9632 - val_loss: 0.1607 - val_accuracy: 0.9627 - lr: 0.0100\n",
      "Epoch 20/50\n",
      "50/50 [==============================] - 2s 38ms/step - loss: 0.1589 - accuracy: 0.9633 - val_loss: 0.1607 - val_accuracy: 0.9626 - lr: 0.0100\n",
      "Epoch 21/50\n",
      "50/50 [==============================] - 2s 39ms/step - loss: 0.1589 - accuracy: 0.9633 - val_loss: 0.1606 - val_accuracy: 0.9626 - lr: 0.0100\n",
      "Epoch 22/50\n",
      "50/50 [==============================] - 2s 38ms/step - loss: 0.1588 - accuracy: 0.9632 - val_loss: 0.1611 - val_accuracy: 0.9624 - lr: 0.0100\n",
      "Epoch 23/50\n",
      "50/50 [==============================] - 2s 40ms/step - loss: 0.1588 - accuracy: 0.9633 - val_loss: 0.1607 - val_accuracy: 0.9626 - lr: 0.0100\n",
      "Epoch 24/50\n",
      "50/50 [==============================] - 2s 39ms/step - loss: 0.1588 - accuracy: 0.9633 - val_loss: 0.1608 - val_accuracy: 0.9627 - lr: 0.0100\n",
      "Epoch 25/50\n",
      "50/50 [==============================] - 2s 40ms/step - loss: 0.1588 - accuracy: 0.9633 - val_loss: 0.1604 - val_accuracy: 0.9626 - lr: 0.0100\n",
      "Epoch 26/50\n",
      "50/50 [==============================] - 2s 39ms/step - loss: 0.1588 - accuracy: 0.9633 - val_loss: 0.1609 - val_accuracy: 0.9624 - lr: 0.0100\n",
      "Epoch 27/50\n",
      "50/50 [==============================] - 2s 39ms/step - loss: 0.1588 - accuracy: 0.9633 - val_loss: 0.1607 - val_accuracy: 0.9627 - lr: 0.0100\n",
      "Epoch 28/50\n",
      "50/50 [==============================] - 2s 38ms/step - loss: 0.1588 - accuracy: 0.9632 - val_loss: 0.1605 - val_accuracy: 0.9626 - lr: 0.0100\n",
      "Epoch 29/50\n",
      "50/50 [==============================] - 2s 39ms/step - loss: 0.1587 - accuracy: 0.9633 - val_loss: 0.1607 - val_accuracy: 0.9626 - lr: 0.0100\n",
      "Epoch 30/50\n",
      "50/50 [==============================] - 2s 40ms/step - loss: 0.1587 - accuracy: 0.9633 - val_loss: 0.1607 - val_accuracy: 0.9627 - lr: 0.0100\n",
      "Epoch 31/50\n",
      "50/50 [==============================] - 2s 40ms/step - loss: 0.1587 - accuracy: 0.9633 - val_loss: 0.1606 - val_accuracy: 0.9627 - lr: 0.0100\n",
      "Epoch 32/50\n",
      "50/50 [==============================] - 2s 39ms/step - loss: 0.1587 - accuracy: 0.9634 - val_loss: 0.1606 - val_accuracy: 0.9627 - lr: 0.0100\n",
      "Epoch 33/50\n",
      "50/50 [==============================] - 2s 40ms/step - loss: 0.1587 - accuracy: 0.9633 - val_loss: 0.1605 - val_accuracy: 0.9626 - lr: 0.0100\n",
      "Epoch 34/50\n",
      "50/50 [==============================] - 2s 39ms/step - loss: 0.1587 - accuracy: 0.9634 - val_loss: 0.1605 - val_accuracy: 0.9626 - lr: 0.0100\n",
      "Epoch 35/50\n",
      "50/50 [==============================] - 2s 40ms/step - loss: 0.1587 - accuracy: 0.9633 - val_loss: 0.1611 - val_accuracy: 0.9624 - lr: 0.0100\n",
      "Epoch 36/50\n",
      "50/50 [==============================] - 2s 39ms/step - loss: 0.1587 - accuracy: 0.9633 - val_loss: 0.1606 - val_accuracy: 0.9627 - lr: 0.0100\n",
      "Epoch 37/50\n",
      "50/50 [==============================] - 2s 39ms/step - loss: 0.1587 - accuracy: 0.9633 - val_loss: 0.1605 - val_accuracy: 0.9626 - lr: 0.0100\n",
      "Epoch 38/50\n",
      "50/50 [==============================] - 2s 39ms/step - loss: 0.1586 - accuracy: 0.9634 - val_loss: 0.1605 - val_accuracy: 0.9627 - lr: 0.0100\n",
      "Epoch 39/50\n",
      "50/50 [==============================] - 2s 40ms/step - loss: 0.1587 - accuracy: 0.9633 - val_loss: 0.1605 - val_accuracy: 0.9628 - lr: 0.0100\n",
      "Epoch 40/50\n",
      "50/50 [==============================] - 2s 40ms/step - loss: 0.1586 - accuracy: 0.9633 - val_loss: 0.1605 - val_accuracy: 0.9627 - lr: 0.0100\n",
      "Epoch 41/50\n",
      "50/50 [==============================] - 2s 40ms/step - loss: 0.1587 - accuracy: 0.9633 - val_loss: 0.1606 - val_accuracy: 0.9626 - lr: 0.0100\n",
      "Epoch 42/50\n",
      "50/50 [==============================] - 2s 38ms/step - loss: 0.1587 - accuracy: 0.9634 - val_loss: 0.1606 - val_accuracy: 0.9627 - lr: 0.0100\n",
      "Epoch 43/50\n",
      "50/50 [==============================] - 2s 39ms/step - loss: 0.1586 - accuracy: 0.9633 - val_loss: 0.1605 - val_accuracy: 0.9627 - lr: 0.0100\n",
      "Epoch 44/50\n",
      "50/50 [==============================] - 2s 40ms/step - loss: 0.1587 - accuracy: 0.9633 - val_loss: 0.1605 - val_accuracy: 0.9627 - lr: 0.0100\n",
      "Epoch 45/50\n",
      "50/50 [==============================] - 2s 40ms/step - loss: 0.1587 - accuracy: 0.9633 - val_loss: 0.1605 - val_accuracy: 0.9627 - lr: 0.0100\n",
      "Epoch 46/50\n",
      "50/50 [==============================] - 2s 40ms/step - loss: 0.1587 - accuracy: 0.9633 - val_loss: 0.1605 - val_accuracy: 0.9627 - lr: 0.0100\n",
      "Epoch 47/50\n",
      "50/50 [==============================] - 2s 40ms/step - loss: 0.1586 - accuracy: 0.9634 - val_loss: 0.1605 - val_accuracy: 0.9627 - lr: 0.0100\n",
      "Epoch 48/50\n",
      "50/50 [==============================] - 2s 39ms/step - loss: 0.1586 - accuracy: 0.9633 - val_loss: 0.1607 - val_accuracy: 0.9627 - lr: 0.0100\n",
      "Epoch 49/50\n",
      "50/50 [==============================] - 2s 39ms/step - loss: 0.1586 - accuracy: 0.9634 - val_loss: 0.1606 - val_accuracy: 0.9627 - lr: 0.0100\n",
      "Epoch 50/50\n",
      "50/50 [==============================] - 2s 39ms/step - loss: 0.1586 - accuracy: 0.9634 - val_loss: 0.1604 - val_accuracy: 0.9626 - lr: 0.0100\n"
     ]
    }
   ],
   "source": [
    "opt = Adam(learning_rate=INIT_LEARNING_RATE)\n",
    "model.compile(\n",
    "    optimizer=opt, \n",
    "    # loss=tf.keras.losses.BinaryCrossentropy(),\n",
    "    loss=CategoricalCrossentropy(from_logits=True), \n",
    "    metrics=['accuracy']\n",
    ")\n",
    "\n",
    "history = model.fit(\n",
    "    X_train_val, \n",
    "    y_train_val, \n",
    "    batch_size=BATCH_SIZE,\n",
    "    epochs=EPOCHS, \n",
    "    validation_split=VALIDATION_SPLIT, \n",
    "    shuffle=True, \n",
    "    callbacks=callbacks\n",
    ")"
   ]
  },
  {
   "cell_type": "markdown",
   "metadata": {},
   "source": [
    "Important: Pruning layers must be removed before saving to disk. "
   ]
  },
  {
   "cell_type": "code",
   "execution_count": 9,
   "metadata": {},
   "outputs": [
    {
     "name": "stdout",
     "output_type": "stream",
     "text": [
      "Model: \"sequential\"\n",
      "_________________________________________________________________\n",
      " Layer (type)                Output Shape              Param #   \n",
      "=================================================================\n",
      " fc1 (QDense)                (None, 10)                15410     \n",
      "                                                                 \n",
      " batch_normalization (BatchN  (None, 10)               40        \n",
      " ormalization)                                                   \n",
      "                                                                 \n",
      " fc2 (QDense)                (None, 2)                 22        \n",
      "                                                                 \n",
      "=================================================================\n",
      "Total params: 15,472\n",
      "Trainable params: 15,452\n",
      "Non-trainable params: 20\n",
      "_________________________________________________________________\n",
      "None\n",
      "WARNING:tensorflow:Compiled the loaded model, but the compiled metrics have yet to be built. `model.compile_metrics` will be empty until you train or evaluate the model.\n",
      "Saving history to: qmodel-history.pkl\n",
      "Saved checkpoint to: qmodel.h5\n"
     ]
    }
   ],
   "source": [
    "model = strip_pruning(model)\n",
    "print(model.summary())\n",
    "model.save(CHECKPOINT_FILENAME)\n",
    "\n",
    "history_file = CHECKPOINT_FILENAME.replace(\".h5\", \"-history.pkl\")\n",
    "with open(history_file, 'wb') as file_pi:\n",
    "    pickle.dump(history.history, file_pi)\n",
    "\n",
    "print(f'Saving history to: {history_file}')\n",
    "print(f'Saved checkpoint to: {CHECKPOINT_FILENAME}')"
   ]
  },
  {
   "cell_type": "markdown",
   "metadata": {},
   "source": [
    "## Check performance"
   ]
  },
  {
   "cell_type": "code",
   "execution_count": 10,
   "metadata": {},
   "outputs": [
    {
     "name": "stdout",
     "output_type": "stream",
     "text": [
      "3157/3157 [==============================] - 4s 1ms/step\n",
      "Keras  Accuracy: 0.9616732673267326\n"
     ]
    }
   ],
   "source": [
    "co = {}\n",
    "_add_supported_quantized_objects(co)\n",
    "model = load_model(CHECKPOINT_FILENAME, custom_objects=co, compile=False)\n",
    "y_pred = model.predict(X_test)\n",
    "print(\"Keras  Accuracy: {}\".format(accuracy_score(np.argmax(y_test, axis=1), np.argmax(y_pred, axis=1))))"
   ]
  },
  {
   "cell_type": "markdown",
   "metadata": {},
   "source": [
    "## TODO: add ROC curve\n",
    "\n",
    "To add an ROC curve, we need to normalize $y_\\text{pred} \\in [0,1]$. Right now it can take a range of values (I'm guessing because sigmoid is too expensive to run on hardware, whereas argmax can be implemented with basically just a switch).\n",
    "\n",
    "So then, what's an unbiased way to get back to $y_\\text{pred} \\in [0,1]$? \n",
    "\n",
    "ANSWER = Sigmoid, since that's what the model was trained with. "
   ]
  },
  {
   "cell_type": "markdown",
   "metadata": {},
   "source": [
    "## Check sparsity "
   ]
  },
  {
   "cell_type": "code",
   "execution_count": 11,
   "metadata": {
    "scrolled": true
   },
   "outputs": [
    {
     "name": "stdout",
     "output_type": "stream",
     "text": [
      "Number of layers: 3\n",
      "% of zeros = 0.8\n",
      "% of zeros = 0.0\n",
      "% of zeros = 0.8\n"
     ]
    },
    {
     "data": {
      "image/png": "[encoded data removed]",
      "text/plain": [
       "<Figure size 700x700 with 1 Axes>"
      ]
     },
     "metadata": {},
     "output_type": "display_data"
    },
    {
     "data": {
      "image/png": "[encoded data removed]",
      "text/plain": [
       "<Figure size 700x700 with 1 Axes>"
      ]
     },
     "metadata": {},
     "output_type": "display_data"
    },
    {
     "data": {
      "image/png": "[encoded data removed]",
      "text/plain": [
       "<Figure size 700x700 with 1 Axes>"
      ]
     },
     "metadata": {},
     "output_type": "display_data"
    }
   ],
   "source": [
    "num_layers = len(model.layers)\n",
    "print(f'Number of layers: {num_layers}')\n",
    "\n",
    "layer_names = [\"fc1\", \"batch_norm_1\", \"fc2\"]\n",
    "for idx in range(num_layers):\n",
    "    w = model.layers[idx].weights[0].numpy()\n",
    "    h, b = np.histogram(w, bins=100)\n",
    "\n",
    "    # plot weight distribution\n",
    "    plt.figure(figsize=(7, 7))\n",
    "    plt.bar(b[:-1], h, width=b[1] - b[0])\n",
    "    plt.title(layer_names[idx])\n",
    "    plt.semilogy()\n",
    "    plt.savefig(f'model-dist-idx{idx}.png')\n",
    "\n",
    "    print('% of zeros = {}'.format(np.sum(w == 0) / np.size(w)))"
   ]
  },
  {
   "cell_type": "markdown",
   "metadata": {},
   "source": [
    "## Build the HLS model "
   ]
  },
  {
   "cell_type": "code",
   "execution_count": 12,
   "metadata": {},
   "outputs": [],
   "source": [
    "sys.path.append(\"../utils\")\n",
    "from config import print_dict\n",
    "\n",
    "from tensorflow.keras.models import load_model\n",
    "from qkeras.utils import _add_supported_quantized_objects"
   ]
  },
  {
   "cell_type": "code",
   "execution_count": 13,
   "metadata": {},
   "outputs": [
    {
     "name": "stdout",
     "output_type": "stream",
     "text": [
      "3157/3157 [==============================] - 5s 2ms/step\n",
      "3157/3157 [==============================] - 5s 1ms/step\n",
      "Model acc: 0.9616732673267326\n",
      "Model: \"sequential\"\n",
      "_________________________________________________________________\n",
      " Layer (type)                Output Shape              Param #   \n",
      "=================================================================\n",
      " fc1 (QDense)                (None, 10)                15410     \n",
      "                                                                 \n",
      " batch_normalization (BatchN  (None, 10)               40        \n",
      " ormalization)                                                   \n",
      "                                                                 \n",
      " fc2 (QDense)                (None, 2)                 22        \n",
      "                                                                 \n",
      "=================================================================\n",
      "Total params: 15,472\n",
      "Trainable params: 15,452\n",
      "Non-trainable params: 20\n",
      "_________________________________________________________________\n",
      "None\n"
     ]
    }
   ],
   "source": [
    "# Load checkpoint \n",
    "co = {}\n",
    "_add_supported_quantized_objects(co)\n",
    "model = load_model(CHECKPOINT_FILENAME, custom_objects=co, compile=False)\n",
    "y_pred = model.predict(X_test)\n",
    "\n",
    "# Re-evalulate \n",
    "y_keras = model.predict(X_test)\n",
    "print(f'Model acc: {accuracy_score(np.argmax(y_test, axis=1), np.argmax(y_keras, axis=1))}')\n",
    "print(model.summary()) "
   ]
  },
  {
   "cell_type": "code",
   "execution_count": 45,
   "metadata": {},
   "outputs": [
    {
     "name": "stdout",
     "output_type": "stream",
     "text": [
      "Model\n",
      "  Precision:         ap_fixed<16,6>\n",
      "  ReuseFactor:       1\n",
      "LayerName\n",
      "  fc1_input\n",
      "    Precision:       ap_fixed<14,14>\n",
      "    Trace:           True\n",
      "  fc1\n",
      "    Precision\n",
      "      result:        ap_fixed<18,18>\n",
      "    Trace:           True\n",
      "    ReuseFactor:     4\n",
      "    accum_t:         ap_fixed<18,18>\n",
      "  fc1_linear\n",
      "    Precision\n",
      "      result:        ap_fixed<18,18>\n",
      "    Trace:           True\n",
      "  batch_normalization\n",
      "    Precision\n",
      "      scale:         ap_fixed<20,3>\n",
      "      bias:          ap_fixed<20,3>\n",
      "      result:        ap_fixed<16,6>\n",
      "    Trace:           True\n",
      "  fc2\n",
      "    Precision\n",
      "      result:        ap_fixed<18,16>\n",
      "    Trace:           True\n",
      "    accum_t:         ap_fixed<18,16>\n",
      "  fc2_linear\n",
      "    Precision\n",
      "      result:        ap_fixed<18,18>\n",
      "    Trace:           True\n"
     ]
    }
   ],
   "source": [
    "# Create HLS configuration \n",
    "\n",
    "# Model params: Default precision, reuse factor\n",
    "HLSConfig = {}\n",
    "HLSConfig['Model'] = {}\n",
    "HLSConfig['Model']['Precision'] = 'ap_fixed<16,6>'  # Default precision. Recall syntax: ap_fixed<total_bits, integer_bits>\n",
    "HLSConfig['Model']['ReuseFactor'] = 1 \n",
    "\n",
    "HLSConfig['LayerName'] = {}\n",
    "for layer in ['fc1_input', 'fc1', 'fc1_linear', 'batch_normalization', 'fc2', 'fc2_linear']:\n",
    "    # Layer params: Precision, whether or not to trace\n",
    "    HLSConfig['LayerName'][layer] = {}\n",
    "    HLSConfig['LayerName'][layer]['Precision'] = {}\n",
    "    HLSConfig['LayerName'][layer]['Trace'] = True\n",
    "\n",
    "# Input - ZCU216 uses 14-bit ADCS  \n",
    "# Question: 1sn't 16,6 a lot? I remember getting down to like 7 bits total for the GNN tracking project, recreated like 94% accuracy. How accurate do we need to be?\n",
    "HLSConfig['LayerName']['fc1_input']['Precision'] = 'ap_fixed<14,14>'  # So no fractional bits, prob result of quantization\n",
    "\n",
    "# FC1\n",
    "HLSConfig['LayerName']['fc1']['Precision']['result'] = 'ap_fixed<18,18>' \n",
    "HLSConfig['LayerName']['fc1'].update({'ReuseFactor':4})\n",
    "HLSConfig['LayerName']['fc1']['accum_t'] = 'ap_fixed<18,18>'\n",
    "\n",
    "# FC1 Linear\n",
    "HLSConfig['LayerName']['fc1_linear']['Precision']['result'] = 'ap_fixed<18,18>'\n",
    "\n",
    "# Batchnormalization\n",
    "HLSConfig['LayerName']['batch_normalization']['Precision']['scale'] = 'ap_fixed<20,3>'\n",
    "HLSConfig['LayerName']['batch_normalization']['Precision']['bias'] = 'ap_fixed<20,3>'\n",
    "HLSConfig['LayerName']['batch_normalization']['Precision']['result'] = 'ap_fixed<16,6>'\n",
    "\n",
    "# FC2\n",
    "HLSConfig['LayerName']['fc2']['Precision']['result'] = 'ap_fixed<18,16>' \n",
    "HLSConfig['LayerName']['fc2']['accum_t'] = 'ap_fixed<18,16>'\n",
    "# FC2 Linear\n",
    "HLSConfig['LayerName']['fc2_linear']['Precision']['result'] = 'ap_fixed<18,18>'\n",
    "\n",
    "print_dict(HLSConfig)"
   ]
  },
  {
   "cell_type": "code",
   "execution_count": 46,
   "metadata": {},
   "outputs": [
    {
     "name": "stdout",
     "output_type": "stream",
     "text": [
      "Interpreting Sequential\n",
      "Topology:\n",
      "Layer name: fc1_input, layer type: InputLayer, input shapes: [[None, 1540]], output shape: [None, 1540]\n",
      "Layer name: fc1, layer type: QDense, input shapes: [[None, 1540]], output shape: [None, 10]\n",
      "Layer name: batch_normalization, layer type: BatchNormalization, input shapes: [[None, 10]], output shape: [None, 10]\n",
      "Layer name: fc2, layer type: QDense, input shapes: [[None, 10]], output shape: [None, 2]\n",
      "Creating HLS model\n",
      "WARNING: Config parameter \"accum_t\" overwrites an existing attribute in layer \"fc1\" (Dense)\n",
      "WARNING: Config parameter \"accum_t\" overwrites an existing attribute in layer \"fc2\" (Dense)\n",
      "Creating hls4ml project directory hls4ml_prj_large_fc2/\n",
      "Writing HLS project\n",
      "WARNING:tensorflow:Compiled the loaded model, but the compiled metrics have yet to be built. `model.compile_metrics` will be empty until you train or evaluate the model.\n"
     ]
    },
    {
     "name": "stderr",
     "output_type": "stream",
     "text": [
      "WARNING:tensorflow:Compiled the loaded model, but the compiled metrics have yet to be built. `model.compile_metrics` will be empty until you train or evaluate the model.\n"
     ]
    },
    {
     "name": "stdout",
     "output_type": "stream",
     "text": [
      "Done\n"
     ]
    }
   ],
   "source": [
    "OutputDir = 'hls4ml_prj_large_fc2/'\n",
    "XilinxPart = 'xczu49dr-ffvf1760-2-e' # <-- CHANGE PART HERE\n",
    "IOType = 'io_parallel' #<-- What are the different options again? io_sequential?\n",
    "ClockPeriod = 3.225  # 3.225ns (307.2 MHz) # <-- How does this relate to the frequency of the IQ timeseries data? Serialization must be bufferized by WINDOW_SIZE, at least.\n",
    "            # Is the clock frequency exactly equal to the timeseries frequency? I.e. we sample once per clock cycle until we've bufferized a dataset of size WINDOW_SIZE, and then pass to the NN for inference?\n",
    "HLSFig = OutputDir+'model.png'\n",
    "\n",
    "hls_model = hls4ml.converters.convert_from_keras_model(\n",
    "    model=model,\n",
    "    hls_config=HLSConfig,\n",
    "    output_dir=OutputDir,\n",
    "    part=XilinxPart,\n",
    "    io_type=IOType,\n",
    "    clock_period=ClockPeriod,\n",
    ")\n",
    "\n",
    "print(f\"Creating hls4ml project directory {OutputDir}\")\n",
    "hls_model.compile()  # Must compile for C Sim. \n",
    "\n",
    "# Visualize model\n",
    "hls4ml.utils.plot_model(\n",
    "    hls_model, show_shapes=True, show_precision=True, to_file=HLSFig\n",
    ")"
   ]
  },
  {
   "cell_type": "markdown",
   "metadata": {},
   "source": [
    "## Check performance"
   ]
  },
  {
   "cell_type": "code",
   "execution_count": 47,
   "metadata": {},
   "outputs": [
    {
     "name": "stdout",
     "output_type": "stream",
     "text": [
      "Keras Acc: 96.167%\n",
      "HLS Acc: 95.891:%\n",
      "CKA: 99.148%\n"
     ]
    }
   ],
   "source": [
    "# Trace output \n",
    "y_hls = hls_model.predict(np.ascontiguousarray(X_test.astype(np.float32))) \n",
    "y_hls = np.argmax(y_hls, axis=1)\n",
    "\n",
    "print(f'Keras Acc: {accuracy_score(np.argmax(y_test, axis=1), np.argmax(y_keras, axis=1))*100:.5}%')\n",
    "print(f'HLS Acc: {accuracy_score(np.argmax(y_test, axis=1), y_hls)*100:.5}:%')\n",
    "print(f'CKA: {accuracy_score(np.argmax(y_keras, axis=1), y_hls)*100:.5}%')"
   ]
  },
  {
   "cell_type": "markdown",
   "metadata": {},
   "source": [
    "## Correlation plots (Keras vs HLS)\n",
    "Let's compare the output of the Qkeras and HLS model. If properly configured, the HLS activations will be aligned with the Qkeras model. "
   ]
  },
  {
   "cell_type": "code",
   "execution_count": null,
   "metadata": {},
   "outputs": [
    {
     "name": "stdout",
     "output_type": "stream",
     "text": [
      "Recompiling myproject with tracing\n",
      "Writing HLS project\n",
      "WARNING:tensorflow:Compiled the loaded model, but the compiled metrics have yet to be built. `model.compile_metrics` will be empty until you train or evaluate the model.\n"
     ]
    },
    {
     "name": "stderr",
     "output_type": "stream",
     "text": [
      "WARNING:tensorflow:Compiled the loaded model, but the compiled metrics have yet to be built. `model.compile_metrics` will be empty until you train or evaluate the model.\n"
     ]
    },
    {
     "name": "stdout",
     "output_type": "stream",
     "text": [
      "Done\n"
     ]
    }
   ],
   "source": [
    "_, hls_trace = hls_model.trace(np.ascontiguousarray(X_test.astype(np.float32)))\n",
    "keras_trace = hls4ml.model.profiling.get_ymodel_keras(model, X_test.astype(np.float32)) \n",
    "\n",
    "print(f'HLS Keys: {hls_trace.keys()}')\n",
    "print(f'Keras Keys: {keras_trace.keys()}')"
   ]
  },
  {
   "cell_type": "code",
   "execution_count": null,
   "metadata": {
    "scrolled": true
   },
   "outputs": [],
   "source": [
    "layers = ['fc1', 'batch_normalization', 'fc2']\n",
    "\n",
    "for idx, layer in enumerate(layers):\n",
    "    keras_layer, hls_layer = keras_trace[layer], hls_trace[layer]\n",
    "    try:\n",
    "        diff = np.average(np.abs(keras_layer - hls_layer ))\n",
    "        print(f'{layer}', '\\t\\t', diff)\n",
    "        \n",
    "        plt.figure(figsize=(7, 5))\n",
    "\n",
    "        plt.scatter(hls_layer.flatten(), keras_layer.flatten())\n",
    "        min_x = min(keras_layer.min(), hls_layer.min())\n",
    "        max_x = min(keras_layer.max(), hls_layer.max())\n",
    "\n",
    "        onnx_min, onnx_max = keras_layer.flatten().min(), keras_layer.flatten().max()\n",
    "        hls_min, hls_max = hls_layer.flatten().min(), hls_layer.flatten().max()\n",
    "        \n",
    "        print(f'hls/keras min: {hls_min}/{onnx_min}')\n",
    "        print(f'hls/keras max: {hls_max}/{onnx_max}')\n",
    "        \n",
    "        plt.plot([min_x, max_x], [min_x, max_x], c='red')\n",
    "        plt.axhline(min_x, c='red')\n",
    "        plt.axhline(max_x, c='red')\n",
    "\n",
    "        plt.title(f'(hls) {layer} -- (keras) {layer}')\n",
    "        plt.xlabel(f'hls4ml - [{hls_min:.3f},  {hls_max:.3f}]')\n",
    "        plt.ylabel(f'keras - [{onnx_min:.3f},  {onnx_max:.3f}]')\n",
    "        plt.yscale('linear')\n",
    "    except Exception as e:\n",
    "        print(e)\n"
   ]
  },
  {
   "cell_type": "markdown",
   "metadata": {},
   "source": [
    "## Synthesize "
   ]
  },
  {
   "cell_type": "code",
   "execution_count": null,
   "metadata": {
    "scrolled": true
   },
   "outputs": [],
   "source": [
    "hls_model.build(\n",
    "    csim=True,\n",
    "    synth=True,\n",
    "    cosim=False,\n",
    "    export=True,\n",
    "    vsynth=True,\n",
    ")"
   ]
  },
  {
   "cell_type": "markdown",
   "metadata": {},
   "source": [
    "## Check the report"
   ]
  },
  {
   "cell_type": "code",
   "execution_count": 20,
   "metadata": {
    "scrolled": true
   },
   "outputs": [
    {
     "name": "stdout",
     "output_type": "stream",
     "text": [
      "Found 1 solution(s) in hls4ml_prj_large/myproject_prj.\n",
      "Reports for solution \"solution1\":\n",
      "\n",
      "C SIMULATION RESULT:\n",
      "INFO: [SIM 2] *************** CSIM start ***************\n",
      "INFO: [SIM 4] CSIM will launch GCC as the compiler.\n",
      "   Compiling ../../../../myproject_test.cpp in debug mode\n",
      "   Compiling ../../../../firmware/myproject.cpp in debug mode\n",
      "   Generating csim.exe\n",
      "INFO: Unable to open input/predictions file, using default input.\n",
      "1.05273 -2.37598 \n",
      "INFO: Saved inference results to file: tb_data/csim_results.log\n",
      "INFO: [SIM 1] CSim done with 0 errors.\n",
      "INFO: [SIM 3] *************** CSIM finish ***************\n",
      "\n",
      "Synthesis report not found.\n",
      "Co-simulation report not found.\n"
     ]
    }
   ],
   "source": [
    "hls4ml.report.read_vivado_report(f'hls4ml_prj_large_fc2')"
   ]
  },
  {
   "cell_type": "code",
   "execution_count": null,
   "metadata": {},
   "outputs": [],
   "source": []
  }
 ],
 "metadata": {
  "kernelspec": {
   "display_name": "Python 3 (ipykernel)",
   "language": "python",
   "name": "python3"
  },
  "language_info": {
   "codemirror_mode": {
    "name": "ipython",
    "version": 3
   },
   "file_extension": ".py",
   "mimetype": "text/x-python",
   "name": "python",
   "nbconvert_exporter": "python",
   "pygments_lexer": "ipython3",
   "version": "3.8.18"
  }
 },
 "nbformat": 4,
 "nbformat_minor": 4
}
